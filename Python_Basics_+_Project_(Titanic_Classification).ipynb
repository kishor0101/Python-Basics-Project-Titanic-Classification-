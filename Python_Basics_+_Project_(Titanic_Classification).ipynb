{
  "nbformat": 4,
  "nbformat_minor": 0,
  "metadata": {
    "colab": {
      "provenance": []
    },
    "kernelspec": {
      "name": "python3",
      "display_name": "Python 3"
    },
    "language_info": {
      "name": "python"
    }
  },
  "cells": [
    {
      "cell_type": "markdown",
      "source": [
        "# Month 3: Python Basics + Project (Titanic Classification)"
      ],
      "metadata": {
        "id": "F5O8EnAAVK_g"
      }
    },
    {
      "cell_type": "code",
      "execution_count": 1,
      "metadata": {
        "colab": {
          "base_uri": "https://localhost:8080/"
        },
        "id": "UPRT6YfaVJys",
        "outputId": "eb9ac47e-17e5-45d2-a933-c04d3cc2a52a"
      },
      "outputs": [
        {
          "output_type": "stream",
          "name": "stdout",
          "text": [
            "Raw columns: ['survived', 'pclass', 'sex', 'age', 'sibsp', 'parch', 'fare', 'embarked', 'class', 'who', 'adult_male', 'deck', 'embark_town', 'alive', 'alone']\n",
            "Rows: 891\n",
            "Accuracy: 0.7902\n",
            "\n",
            "Classification report:\n",
            "              precision    recall  f1-score   support\n",
            "\n",
            "           0       0.82      0.84      0.83        85\n",
            "           1       0.75      0.72      0.74        58\n",
            "\n",
            "    accuracy                           0.79       143\n",
            "   macro avg       0.78      0.78      0.78       143\n",
            "weighted avg       0.79      0.79      0.79       143\n",
            "\n",
            "Confusion Matrix:\n",
            " [[71 14]\n",
            " [16 42]]\n",
            "Saved model to: outputs/titanic_logreg.joblib\n",
            "\n",
            "Test sample prediction -> survived: 0 prob: 0.0994\n"
          ]
        }
      ],
      "source": [
        "# =========================\n",
        "# Titanic: Python basics -> EDA -> ML (Logistic Regression)\n",
        "# Uses seaborn's Titanic dataset; outputs model file and metrics.\n",
        "# =========================\n",
        "\n",
        "import pandas as pd\n",
        "import numpy as np\n",
        "import seaborn as sns\n",
        "from sklearn.model_selection import train_test_split\n",
        "from sklearn.linear_model import LogisticRegression\n",
        "from sklearn.metrics import classification_report, confusion_matrix, accuracy_score\n",
        "import joblib\n",
        "from pathlib import Path\n",
        "\n",
        "# Load dataset\n",
        "titanic = sns.load_dataset('titanic')  # seaborn provides this; simple for demo\n",
        "print(\"Raw columns:\", titanic.columns.tolist())\n",
        "print(\"Rows:\", len(titanic))\n",
        "\n",
        "# Basic cleaning & quick EDA (Python basics at work)\n",
        "df = titanic.copy()\n",
        "\n",
        "# Keep a few useful features and drop rows with missing crucial info (simple approach)\n",
        "df = df[['survived','pclass','sex','age','sibsp','parch','fare','embarked']].dropna().reset_index(drop=True)\n",
        "df['sex'] = df['sex'].map({'male':0,'female':1})\n",
        "df['embarked'] = df['embarked'].map({'C':0,'Q':1,'S':2})\n",
        "\n",
        "# Feature & label\n",
        "X = df.drop('survived', axis=1)\n",
        "y = df['survived']\n",
        "\n",
        "# Train-test split\n",
        "X_train, X_test, y_train, y_test = train_test_split(X, y, test_size=0.2, random_state=42, stratify=y)\n",
        "\n",
        "# Train a simple logistic regression\n",
        "model = LogisticRegression(max_iter=500)\n",
        "model.fit(X_train, y_train)\n",
        "\n",
        "# Evaluate\n",
        "y_pred = model.predict(X_test)\n",
        "acc = accuracy_score(y_test, y_pred)\n",
        "print(\"Accuracy:\", round(acc, 4))\n",
        "print(\"\\nClassification report:\")\n",
        "print(classification_report(y_test, y_pred))\n",
        "\n",
        "# Confusion matrix\n",
        "cm = confusion_matrix(y_test, y_pred)\n",
        "print(\"Confusion Matrix:\\n\", cm)\n",
        "\n",
        "# Save model and a small \"artifact\" (columns used)\n",
        "out_dir = Path(\"outputs\")\n",
        "out_dir.mkdir(exist_ok=True)\n",
        "model_path = out_dir/\"titanic_logreg.joblib\"\n",
        "joblib.dump({'model': model, 'columns': X.columns.tolist()}, model_path)\n",
        "print(f\"Saved model to: {model_path}\")\n",
        "\n",
        "# Example inference function (to customize later)\n",
        "def predict_survival(sample_dict):\n",
        "    # sample_dict should contain pclass, sex (0/1), age, sibsp, parch, fare, embarked (0/1/2)\n",
        "    row = pd.DataFrame([sample_dict])\n",
        "    return int(model.predict(row)[0]), float(model.predict_proba(row)[0][1])\n",
        "\n",
        "# Quick test inference\n",
        "test_sample = {'pclass':3, 'sex':0, 'age':22.0, 'sibsp':1, 'parch':0, 'fare':7.25, 'embarked':2}\n",
        "pred_label, prob_survive = predict_survival(test_sample)\n",
        "print(\"\\nTest sample prediction -> survived:\", pred_label, \"prob:\", round(prob_survive,4))\n",
        "\n"
      ]
    }
  ]
}